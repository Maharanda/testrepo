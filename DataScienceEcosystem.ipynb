{
 "cells": [
  {
   "cell_type": "markdown",
   "id": "c03328c4-bd93-4e6f-8832-86551b08dcb1",
   "metadata": {},
   "source": [
    "## This a simple arithmetic expression to mutiply then add integers "
   ]
  },
  {
   "cell_type": "code",
   "execution_count": 1,
   "id": "c0409f4d-a374-4787-927c-ca85cb9f8a2f",
   "metadata": {
    "tags": []
   },
   "outputs": [
    {
     "data": {
      "text/plain": [
       "17"
      ]
     },
     "execution_count": 1,
     "metadata": {},
     "output_type": "execute_result"
    }
   ],
   "source": [
    "(3*4)+5"
   ]
  },
  {
   "cell_type": "markdown",
   "id": "5b0f45ba-1909-413a-8a29-7407c5414b21",
   "metadata": {},
   "source": [
    "##  This will convert 200 minutes to hours by diving by 60"
   ]
  },
  {
   "cell_type": "code",
   "execution_count": 2,
   "id": "a5da778b-e9aa-4886-9917-64f1dba50166",
   "metadata": {
    "tags": []
   },
   "outputs": [
    {
     "data": {
      "text/plain": [
       "3.3333333333333335"
      ]
     },
     "execution_count": 2,
     "metadata": {},
     "output_type": "execute_result"
    }
   ],
   "source": [
    "minutos = 200\n",
    "horas = minutos / 60\n",
    "horas\n"
   ]
  },
  {
   "cell_type": "markdown",
   "id": "e152cd73-96b3-4aff-abc6-e417c00167d1",
   "metadata": {},
   "source": [
    "# In this notebook, Data Science Tools and Ecosystem are summarized."
   ]
  },
  {
   "cell_type": "markdown",
   "id": "e7b6705c-62a4-438b-80e4-16fb464c580f",
   "metadata": {
    "tags": []
   },
   "source": [
    "1. arithmetic expression\n",
    "2. Tools databases\n",
    "3. Opensource enviroments"
   ]
  },
  {
   "cell_type": "markdown",
   "id": "f1c42d82-349e-444e-8f64-e86f958c2a25",
   "metadata": {},
   "source": [
    "## Author"
   ]
  },
  {
   "cell_type": "markdown",
   "id": "eeaec368-d240-415b-9b88-52a9ac532ed1",
   "metadata": {},
   "source": [
    "### Miguel Angel Hernández Aranda"
   ]
  },
  {
   "cell_type": "code",
   "execution_count": null,
   "id": "1c2e824e-fe5e-46ed-a0ae-95a652705480",
   "metadata": {},
   "outputs": [],
   "source": []
  }
 ],
 "metadata": {
  "kernelspec": {
   "display_name": "Python",
   "language": "python",
   "name": "conda-env-python-py"
  },
  "language_info": {
   "codemirror_mode": {
    "name": "ipython",
    "version": 3
   },
   "file_extension": ".py",
   "mimetype": "text/x-python",
   "name": "python",
   "nbconvert_exporter": "python",
   "pygments_lexer": "ipython3",
   "version": "3.7.12"
  }
 },
 "nbformat": 4,
 "nbformat_minor": 5
}
